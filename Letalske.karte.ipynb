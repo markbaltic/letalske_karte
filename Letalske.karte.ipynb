{
 "metadata": {
  "name": ""
 },
 "nbformat": 3,
 "nbformat_minor": 0,
 "worksheets": [
  {
   "cells": [
    {
     "cell_type": "code",
     "collapsed": false,
     "input": [
      "import pandas as pd\n",
      "import requests\n",
      "%matplotlib inline"
     ],
     "language": "python",
     "metadata": {},
     "outputs": [],
     "prompt_number": 1
    },
    {
     "cell_type": "raw",
     "metadata": {},
     "source": [
      "Nalo\u017eim csv podatke za ryanair in voloteo (let Benetke- Krf in nazaj), podatke sortiram po datumu nara\u0161\u010dajo\u010de in datum nastavim za index (pripona k imenu (npr._2_17) pomeni, da sem podatke pobiral dne 17.2.)"
     ]
    },
    {
     "cell_type": "code",
     "collapsed": false,
     "input": [
      "ryanair_2_17 = pd.read_csv('/home/markbaltic/faks/letalske_karte/ryanair_2016-02-17.csv').sort_values(by=\"Datum\").set_index(['Datum'])\n",
      "ryanair_return_2_17 = pd.read_csv('/home/markbaltic/faks/letalske_karte/ryanair_return_2016-02-17.csv').sort_values(by=\"Datum\").set_index(['Datum'])"
     ],
     "language": "python",
     "metadata": {},
     "outputs": [],
     "prompt_number": 2
    },
    {
     "cell_type": "code",
     "collapsed": false,
     "input": [
      "volotea_2_17 = pd.read_csv('/home/markbaltic/faks/letalske_karte/volotea_2016-02-17.csv').sort_values(by=\"Datum\").set_index(['Datum'])\n",
      "volotea_return_2_17 = pd.read_csv('/home/markbaltic/faks/letalske_karte/volotea_return_2016-02-17.csv').sort_values(by=\"Datum\").set_index(['Datum'])"
     ],
     "language": "python",
     "metadata": {},
     "outputs": [],
     "prompt_number": 3
    },
    {
     "cell_type": "raw",
     "metadata": {},
     "source": [
      "Za malo ob\u010dutka izra\u010dunam povpre\u010dne vrednosti in standardne odklone.\n",
      "Zdi se, da se z Ryanair-om potuje ceneje saj je povpre\u010dna cena bodisi ni\u017eja bodisi zelo podobna ceni konkurence, v obeh primerih pa Ryaniar-ova cena v primerjavi z Volote-jino ceno manj niha."
     ]
    },
    {
     "cell_type": "code",
     "collapsed": false,
     "input": [
      "ryanair_2_17.mean() #povpre\u010dje"
     ],
     "language": "python",
     "metadata": {},
     "outputs": [
      {
       "metadata": {},
       "output_type": "pyout",
       "prompt_number": 4,
       "text": [
        "Cena    49.461698\n",
        "dtype: float64"
       ]
      }
     ],
     "prompt_number": 4
    },
    {
     "cell_type": "code",
     "collapsed": false,
     "input": [
      "ryanair_2_17.std() #standardni odklon"
     ],
     "language": "python",
     "metadata": {},
     "outputs": [
      {
       "metadata": {},
       "output_type": "pyout",
       "prompt_number": 5,
       "text": [
        "Cena    15.732871\n",
        "dtype: float64"
       ]
      }
     ],
     "prompt_number": 5
    },
    {
     "cell_type": "code",
     "collapsed": false,
     "input": [
      "volotea_2_17.mean() #povpre\u010dje"
     ],
     "language": "python",
     "metadata": {},
     "outputs": [
      {
       "metadata": {},
       "output_type": "pyout",
       "prompt_number": 6,
       "text": [
        "Cena    86.87963\n",
        "dtype: float64"
       ]
      }
     ],
     "prompt_number": 6
    },
    {
     "cell_type": "code",
     "collapsed": false,
     "input": [
      "volotea_2_17.std() #standardni odklon"
     ],
     "language": "python",
     "metadata": {},
     "outputs": [
      {
       "metadata": {},
       "output_type": "pyout",
       "prompt_number": 7,
       "text": [
        "Cena    34.182628\n",
        "dtype: float64"
       ]
      }
     ],
     "prompt_number": 7
    },
    {
     "cell_type": "code",
     "collapsed": false,
     "input": [
      "ryanair_return_2_17.mean() #povpre\u010dje"
     ],
     "language": "python",
     "metadata": {},
     "outputs": [
      {
       "metadata": {},
       "output_type": "pyout",
       "prompt_number": 8,
       "text": [
        "Cena    49.310755\n",
        "dtype: float64"
       ]
      }
     ],
     "prompt_number": 8
    },
    {
     "cell_type": "code",
     "collapsed": false,
     "input": [
      "ryanair_return_2_17.std() #standardni odklon"
     ],
     "language": "python",
     "metadata": {},
     "outputs": [
      {
       "metadata": {},
       "output_type": "pyout",
       "prompt_number": 9,
       "text": [
        "Cena    15.747739\n",
        "dtype: float64"
       ]
      }
     ],
     "prompt_number": 9
    },
    {
     "cell_type": "code",
     "collapsed": false,
     "input": [
      "volotea_return_2_17.mean() #povpre\u010dje"
     ],
     "language": "python",
     "metadata": {},
     "outputs": [
      {
       "metadata": {},
       "output_type": "pyout",
       "prompt_number": 10,
       "text": [
        "Cena    47.876296\n",
        "dtype: float64"
       ]
      }
     ],
     "prompt_number": 10
    },
    {
     "cell_type": "code",
     "collapsed": false,
     "input": [
      "volotea_return_2_17.std() #standardni odklon"
     ],
     "language": "python",
     "metadata": {},
     "outputs": [
      {
       "metadata": {},
       "output_type": "pyout",
       "prompt_number": 11,
       "text": [
        "Cena    44.71744\n",
        "dtype: float64"
       ]
      }
     ],
     "prompt_number": 11
    },
    {
     "cell_type": "raw",
     "metadata": {},
     "source": [
      "Tukaj shranim vse datume od za\u010detka marca do konca decembra (cene letov sem zbiral za te datume)."
     ]
    },
    {
     "cell_type": "code",
     "collapsed": false,
     "input": [
      "vsi_datumi = pd.date_range('2016-03-01', '2016-12-31')"
     ],
     "language": "python",
     "metadata": {},
     "outputs": [],
     "prompt_number": 12
    },
    {
     "cell_type": "raw",
     "metadata": {},
     "source": [
      "Naredim si kopje (ime_graf), ki jim bom dodal manjkajo\u010de datume in tem datumom ceno 0. To mi omogo\u010da risanje lepih grafov."
     ]
    },
    {
     "cell_type": "code",
     "collapsed": false,
     "input": [
      "ryan_graf, ryan_return_graf, volo_graf, volo_return_graf = ryanair_2_17, ryanair_return_2_17, volotea_2_17, volotea_return_2_17"
     ],
     "language": "python",
     "metadata": {},
     "outputs": [],
     "prompt_number": 13
    },
    {
     "cell_type": "code",
     "collapsed": false,
     "input": [
      "ryan_graf.index = pd.DatetimeIndex(ryan_graf.index)\n",
      "ryan_graf = ryan_graf.reindex(vsi_datumi, fill_value=0)\n",
      "ryan_return_graf.index = pd.DatetimeIndex(ryan_return_graf.index)\n",
      "ryan_return_graf = ryan_return_graf.reindex(vsi_datumi, fill_value=0)"
     ],
     "language": "python",
     "metadata": {},
     "outputs": [],
     "prompt_number": 14
    },
    {
     "cell_type": "code",
     "collapsed": false,
     "input": [
      "volo_graf.index = pd.DatetimeIndex(volo_graf.index)\n",
      "volo_graf = volo_graf.reindex(vsi_datumi, fill_value=0)\n",
      "volo_return_graf.index = pd.DatetimeIndex(volo_return_graf.index)\n",
      "volo_return_graf = volo_return_graf.reindex(vsi_datumi, fill_value=0)"
     ],
     "language": "python",
     "metadata": {},
     "outputs": [],
     "prompt_number": 15
    },
    {
     "cell_type": "code",
     "collapsed": false,
     "input": [
      "ryan_graf.plot()\n",
      "volo_graf.plot()\n",
      "ryan_return_graf.plot()\n",
      "volo_return_graf.plot()"
     ],
     "language": "python",
     "metadata": {},
     "outputs": [
      {
       "metadata": {},
       "output_type": "pyout",
       "prompt_number": 16,
       "text": [
        "<matplotlib.axes._subplots.AxesSubplot at 0x7facdc87fe48>"
       ]
      },
      {
       "metadata": {},
       "output_type": "display_data",
       "png": "[encoded data removed]",
       "text": [
        "<matplotlib.figure.Figure at 0x7facdca41390>"
       ]
      },
      {
       "metadata": {},
       "output_type": "display_data",
       "png": "[encoded data removed]",
       "text": [
        "<matplotlib.figure.Figure at 0x7facdca413c8>"
       ]
      },
      {
       "metadata": {},
       "output_type": "display_data",
       "png": "[encoded data removed]",
       "text": [
        "<matplotlib.figure.Figure at 0x7facdca41320>"
       ]
      },
      {
       "metadata": {},
       "output_type": "display_data",
       "png": "[encoded data removed]",
       "text": [
        "<matplotlib.figure.Figure at 0x7facdca41438>"
       ]
      }
     ],
     "prompt_number": 16
    },
    {
     "cell_type": "raw",
     "metadata": {},
     "source": [
      "Zdru\u017eim podatke za Ryanair in Voloteo."
     ]
    },
    {
     "cell_type": "code",
     "collapsed": false,
     "input": [
      "skupaj = pd.merge(ryan_graf, volo_graf, left_index=True, right_index=True, suffixes=('_ryan', '_volo'))"
     ],
     "language": "python",
     "metadata": {},
     "outputs": [],
     "prompt_number": 17
    },
    {
     "cell_type": "code",
     "collapsed": false,
     "input": [
      "skupaj.plot()"
     ],
     "language": "python",
     "metadata": {},
     "outputs": [
      {
       "metadata": {},
       "output_type": "pyout",
       "prompt_number": 18,
       "text": [
        "<matplotlib.axes._subplots.AxesSubplot at 0x7facdc6a3f98>"
       ]
      },
      {
       "metadata": {},
       "output_type": "display_data",
       "png": "[encoded data removed]",
       "text": [
        "<matplotlib.figure.Figure at 0x7facdccef630>"
       ]
      }
     ],
     "prompt_number": 18
    },
    {
     "cell_type": "raw",
     "metadata": {},
     "source": [
      "Volotea leti le med 27.6. in 2.9., zato vzamem le indekse [118:186]. Ker je to ravno v \u010dasu poletnih po\u010ditnic, s temi podatki zadovoljim svoje potrebe."
     ]
    },
    {
     "cell_type": "code",
     "collapsed": false,
     "input": [
      "ryan_skrcen = ryan_graf[118:186]\n",
      "volo_skrcen = volo_graf[118:186]\n",
      "skupaj_skrcen = pd.merge(ryan_skrcen, volo_skrcen, left_index=True, right_index=True, suffixes=('_ryan', '_volo'))"
     ],
     "language": "python",
     "metadata": {},
     "outputs": [],
     "prompt_number": 19
    },
    {
     "cell_type": "markdown",
     "metadata": {},
     "source": []
    },
    {
     "cell_type": "code",
     "collapsed": false,
     "input": [
      "skupaj_skrcen.plot()"
     ],
     "language": "python",
     "metadata": {},
     "outputs": [
      {
       "metadata": {},
       "output_type": "pyout",
       "prompt_number": 20,
       "text": [
        "<matplotlib.axes._subplots.AxesSubplot at 0x7facdc5e2898>"
       ]
      },
      {
       "metadata": {},
       "output_type": "display_data",
       "png": "[encoded data removed]",
       "text": [
        "<matplotlib.figure.Figure at 0x7facdc93ef98>"
       ]
      }
     ],
     "prompt_number": 20
    },
    {
     "cell_type": "raw",
     "metadata": {},
     "source": [
      "Iz grafa vidim, da letalski dru\u017ebi nimata nikoli leta na isti dan. To je razumljivo, saj tako verjetno zmanj\u0161ajo mo\u017enost nesre\u010d (npr. trk dveh letal).\n",
      "Vidim, da je pri dolo\u010denih dnevih cena Volote-e visoka (nad 100\u20ac). Zato me zanima, ali je to povezano z dnevom v tednu. "
     ]
    },
    {
     "cell_type": "code",
     "collapsed": false,
     "input": [
      "#Funkcija doda stolpec, ki datumu priredi dan v tednu, in uredi cene padajo\u010de\n",
      "def dan_v_tednu(podatki, narascajoce=False):\n",
      "    volo_dan = podatki.reset_index().sort_values(by=[\"Cena\",\"index\"],ascending=narascajoce)\n",
      "    teden = {0:'Pon',1:'Tor',2:'Sre',3:'Cet',4:'Pet',5:'Sob',6:'Ned'}\n",
      "    volo_dan['dan v tednu'] = volo_dan['index'].dt.dayofweek.apply(lambda x: teden[x])\n",
      "    return volo_dan[volo_dan[\"Cena\"]!=0]"
     ],
     "language": "python",
     "metadata": {},
     "outputs": [],
     "prompt_number": 21
    },
    {
     "cell_type": "code",
     "collapsed": false,
     "input": [
      "dan_v_tednu(volo_graf)"
     ],
     "language": "python",
     "metadata": {},
     "outputs": [
      {
       "html": [
        "<div style=\"max-width:1500px;overflow:auto;\">\n",
        "<table border=\"1\" class=\"dataframe\">\n",
        "  <thead>\n",
        "    <tr style=\"text-align: right;\">\n",
        "      <th></th>\n",
        "      <th>index</th>\n",
        "      <th>Cena</th>\n",
        "      <th>dan v tednu</th>\n",
        "    </tr>\n",
        "  </thead>\n",
        "  <tbody>\n",
        "    <tr>\n",
        "      <th>178</th>\n",
        "      <td>2016-08-26</td>\n",
        "      <td>160.37</td>\n",
        "      <td>Pet</td>\n",
        "    </tr>\n",
        "    <tr>\n",
        "      <th>164</th>\n",
        "      <td>2016-08-12</td>\n",
        "      <td>139.81</td>\n",
        "      <td>Pet</td>\n",
        "    </tr>\n",
        "    <tr>\n",
        "      <th>157</th>\n",
        "      <td>2016-08-05</td>\n",
        "      <td>139.81</td>\n",
        "      <td>Pet</td>\n",
        "    </tr>\n",
        "    <tr>\n",
        "      <th>150</th>\n",
        "      <td>2016-07-29</td>\n",
        "      <td>139.81</td>\n",
        "      <td>Pet</td>\n",
        "    </tr>\n",
        "    <tr>\n",
        "      <th>143</th>\n",
        "      <td>2016-07-22</td>\n",
        "      <td>139.81</td>\n",
        "      <td>Pet</td>\n",
        "    </tr>\n",
        "    <tr>\n",
        "      <th>185</th>\n",
        "      <td>2016-09-02</td>\n",
        "      <td>119.25</td>\n",
        "      <td>Pet</td>\n",
        "    </tr>\n",
        "    <tr>\n",
        "      <th>171</th>\n",
        "      <td>2016-08-19</td>\n",
        "      <td>119.25</td>\n",
        "      <td>Pet</td>\n",
        "    </tr>\n",
        "    <tr>\n",
        "      <th>160</th>\n",
        "      <td>2016-08-08</td>\n",
        "      <td>98.68</td>\n",
        "      <td>Pon</td>\n",
        "    </tr>\n",
        "    <tr>\n",
        "      <th>132</th>\n",
        "      <td>2016-07-11</td>\n",
        "      <td>98.68</td>\n",
        "      <td>Pon</td>\n",
        "    </tr>\n",
        "    <tr>\n",
        "      <th>125</th>\n",
        "      <td>2016-07-04</td>\n",
        "      <td>98.68</td>\n",
        "      <td>Pon</td>\n",
        "    </tr>\n",
        "    <tr>\n",
        "      <th>169</th>\n",
        "      <td>2016-08-17</td>\n",
        "      <td>78.12</td>\n",
        "      <td>Sre</td>\n",
        "    </tr>\n",
        "    <tr>\n",
        "      <th>167</th>\n",
        "      <td>2016-08-15</td>\n",
        "      <td>78.12</td>\n",
        "      <td>Pon</td>\n",
        "    </tr>\n",
        "    <tr>\n",
        "      <th>162</th>\n",
        "      <td>2016-08-10</td>\n",
        "      <td>78.12</td>\n",
        "      <td>Sre</td>\n",
        "    </tr>\n",
        "    <tr>\n",
        "      <th>155</th>\n",
        "      <td>2016-08-03</td>\n",
        "      <td>78.12</td>\n",
        "      <td>Sre</td>\n",
        "    </tr>\n",
        "    <tr>\n",
        "      <th>153</th>\n",
        "      <td>2016-08-01</td>\n",
        "      <td>78.12</td>\n",
        "      <td>Pon</td>\n",
        "    </tr>\n",
        "    <tr>\n",
        "      <th>139</th>\n",
        "      <td>2016-07-18</td>\n",
        "      <td>78.12</td>\n",
        "      <td>Pon</td>\n",
        "    </tr>\n",
        "    <tr>\n",
        "      <th>118</th>\n",
        "      <td>2016-06-27</td>\n",
        "      <td>78.12</td>\n",
        "      <td>Pon</td>\n",
        "    </tr>\n",
        "    <tr>\n",
        "      <th>174</th>\n",
        "      <td>2016-08-22</td>\n",
        "      <td>57.56</td>\n",
        "      <td>Pon</td>\n",
        "    </tr>\n",
        "    <tr>\n",
        "      <th>148</th>\n",
        "      <td>2016-07-27</td>\n",
        "      <td>57.56</td>\n",
        "      <td>Sre</td>\n",
        "    </tr>\n",
        "    <tr>\n",
        "      <th>146</th>\n",
        "      <td>2016-07-25</td>\n",
        "      <td>57.56</td>\n",
        "      <td>Pon</td>\n",
        "    </tr>\n",
        "    <tr>\n",
        "      <th>141</th>\n",
        "      <td>2016-07-20</td>\n",
        "      <td>57.56</td>\n",
        "      <td>Sre</td>\n",
        "    </tr>\n",
        "    <tr>\n",
        "      <th>134</th>\n",
        "      <td>2016-07-13</td>\n",
        "      <td>57.56</td>\n",
        "      <td>Sre</td>\n",
        "    </tr>\n",
        "    <tr>\n",
        "      <th>127</th>\n",
        "      <td>2016-07-06</td>\n",
        "      <td>57.56</td>\n",
        "      <td>Sre</td>\n",
        "    </tr>\n",
        "    <tr>\n",
        "      <th>120</th>\n",
        "      <td>2016-06-29</td>\n",
        "      <td>57.56</td>\n",
        "      <td>Sre</td>\n",
        "    </tr>\n",
        "    <tr>\n",
        "      <th>183</th>\n",
        "      <td>2016-08-31</td>\n",
        "      <td>47.28</td>\n",
        "      <td>Sre</td>\n",
        "    </tr>\n",
        "    <tr>\n",
        "      <th>181</th>\n",
        "      <td>2016-08-29</td>\n",
        "      <td>47.28</td>\n",
        "      <td>Pon</td>\n",
        "    </tr>\n",
        "    <tr>\n",
        "      <th>176</th>\n",
        "      <td>2016-08-24</td>\n",
        "      <td>47.28</td>\n",
        "      <td>Sre</td>\n",
        "    </tr>\n",
        "  </tbody>\n",
        "</table>\n",
        "</div>"
       ],
       "metadata": {},
       "output_type": "pyout",
       "prompt_number": 22,
       "text": [
        "         index    Cena dan v tednu\n",
        "178 2016-08-26  160.37         Pet\n",
        "164 2016-08-12  139.81         Pet\n",
        "157 2016-08-05  139.81         Pet\n",
        "150 2016-07-29  139.81         Pet\n",
        "143 2016-07-22  139.81         Pet\n",
        "185 2016-09-02  119.25         Pet\n",
        "171 2016-08-19  119.25         Pet\n",
        "160 2016-08-08   98.68         Pon\n",
        "132 2016-07-11   98.68         Pon\n",
        "125 2016-07-04   98.68         Pon\n",
        "169 2016-08-17   78.12         Sre\n",
        "167 2016-08-15   78.12         Pon\n",
        "162 2016-08-10   78.12         Sre\n",
        "155 2016-08-03   78.12         Sre\n",
        "153 2016-08-01   78.12         Pon\n",
        "139 2016-07-18   78.12         Pon\n",
        "118 2016-06-27   78.12         Pon\n",
        "174 2016-08-22   57.56         Pon\n",
        "148 2016-07-27   57.56         Sre\n",
        "146 2016-07-25   57.56         Pon\n",
        "141 2016-07-20   57.56         Sre\n",
        "134 2016-07-13   57.56         Sre\n",
        "127 2016-07-06   57.56         Sre\n",
        "120 2016-06-29   57.56         Sre\n",
        "183 2016-08-31   47.28         Sre\n",
        "181 2016-08-29   47.28         Pon\n",
        "176 2016-08-24   47.28         Sre"
       ]
      }
     ],
     "prompt_number": 22
    },
    {
     "cell_type": "raw",
     "metadata": {},
     "source": [
      "Vidim, da so v petkih cene letov nad 100\u20ac, zato se mi v petek ne spla\u010da leteti."
     ]
    },
    {
     "cell_type": "raw",
     "metadata": {},
     "source": [
      "Kot \u0161tudenta me seveda zanima najni\u017eja cena leta. Za primerjavo izra\u010dunam najni\u017ejo ceno obeh."
     ]
    },
    {
     "cell_type": "code",
     "collapsed": false,
     "input": [
      "#Funkcija vrne datum in ceno najcenej\u0161ega leta.\n",
      "def najceneje(podatki):\n",
      "    return podatki[podatki[\"Cena\"]!=0].sort_values(by=\"Cena\")[0:1][\"Cena\"] #pri ra\u010dunanju izlo\u010dim ceno 0\n",
      "#Spodnja verzija funkcije vrne LE CENO.\n",
      "#def najceneje(podatki):\n",
      "#    return podatki[podatki[\"Cena\"]!=0].sort_values(by=\"Cena\")[\"Cena\"][0]\n",
      "\n",
      "#Funkcija vrne datum in ceno najdra\u017ejega leta.\n",
      "def najdrazje(podatki):\n",
      "    return podatki[podatki[\"Cena\"]!=0].sort_values(by=\"Cena\", ascending=False)[0:1][\"Cena\"]"
     ],
     "language": "python",
     "metadata": {},
     "outputs": [],
     "prompt_number": 23
    },
    {
     "cell_type": "code",
     "collapsed": false,
     "input": [
      "najceneje(ryan_skrcen)"
     ],
     "language": "python",
     "metadata": {},
     "outputs": [
      {
       "metadata": {},
       "output_type": "pyout",
       "prompt_number": 24,
       "text": [
        "2016-07-10    40.99\n",
        "Name: Cena, dtype: float64"
       ]
      }
     ],
     "prompt_number": 24
    },
    {
     "cell_type": "code",
     "collapsed": false,
     "input": [
      "najceneje(volo_skrcen)"
     ],
     "language": "python",
     "metadata": {},
     "outputs": [
      {
       "metadata": {},
       "output_type": "pyout",
       "prompt_number": 25,
       "text": [
        "2016-08-29    47.28\n",
        "Name: Cena, dtype: float64"
       ]
      }
     ],
     "prompt_number": 25
    },
    {
     "cell_type": "raw",
     "metadata": {},
     "source": [
      "Najugodnej\u0161a cena leta v tople kraje je 41\u20ac dne 10.7. (v nedeljo). "
     ]
    },
    {
     "cell_type": "raw",
     "metadata": {},
     "source": [
      "Iz radovednosti izra\u010dunam \u0161e najvi\u0161ji ceni."
     ]
    },
    {
     "cell_type": "code",
     "collapsed": false,
     "input": [
      "najdrazje(ryan_skrcen)"
     ],
     "language": "python",
     "metadata": {},
     "outputs": [
      {
       "metadata": {},
       "output_type": "pyout",
       "prompt_number": 26,
       "text": [
        "2016-08-14    94.99\n",
        "Name: Cena, dtype: float64"
       ]
      }
     ],
     "prompt_number": 26
    },
    {
     "cell_type": "code",
     "collapsed": false,
     "input": [
      "najdrazje(volo_skrcen)"
     ],
     "language": "python",
     "metadata": {},
     "outputs": [
      {
       "metadata": {},
       "output_type": "pyout",
       "prompt_number": 27,
       "text": [
        "2016-08-26    160.37\n",
        "Name: Cena, dtype: float64"
       ]
      }
     ],
     "prompt_number": 27
    },
    {
     "cell_type": "raw",
     "metadata": {},
     "source": [
      "Podobno naredim za povratne lete."
     ]
    },
    {
     "cell_type": "code",
     "collapsed": false,
     "input": [
      "skupaj_return = pd.merge(ryan_return_graf, volo_return_graf, left_index=True, right_index=True, suffixes=('_ryan', '_volo'))"
     ],
     "language": "python",
     "metadata": {},
     "outputs": [],
     "prompt_number": 28
    },
    {
     "cell_type": "code",
     "collapsed": false,
     "input": [
      "skupaj_return.plot()"
     ],
     "language": "python",
     "metadata": {},
     "outputs": [
      {
       "metadata": {},
       "output_type": "pyout",
       "prompt_number": 29,
       "text": [
        "<matplotlib.axes._subplots.AxesSubplot at 0x7facdc45d160>"
       ]
      },
      {
       "metadata": {},
       "output_type": "display_data",
       "png": "[encoded data removed]",
       "text": [
        "<matplotlib.figure.Figure at 0x7facdc51b0b8>"
       ]
      }
     ],
     "prompt_number": 29
    },
    {
     "cell_type": "raw",
     "metadata": {},
     "source": [
      "Volotea leti le med 28.6. in 9.3., zato vzamem indekse [119:187]"
     ]
    },
    {
     "cell_type": "code",
     "collapsed": false,
     "input": [
      "ryan_return_skrcen = ryan_return_graf[119:187]\n",
      "volo_return_skrcen = volo_return_graf[119:187]\n",
      "skupaj_return_skrcen = pd.merge(ryan_return_skrcen, volo_return_skrcen, left_index=True, right_index=True, suffixes=('_ryan', '_volo'))"
     ],
     "language": "python",
     "metadata": {},
     "outputs": [],
     "prompt_number": 30
    },
    {
     "cell_type": "code",
     "collapsed": false,
     "input": [
      "skupaj_return_skrcen.plot()"
     ],
     "language": "python",
     "metadata": {},
     "outputs": [
      {
       "metadata": {},
       "output_type": "pyout",
       "prompt_number": 31,
       "text": [
        "<matplotlib.axes._subplots.AxesSubplot at 0x7facdc83a128>"
       ]
      },
      {
       "metadata": {},
       "output_type": "display_data",
       "png": "[encoded data removed]",
       "text": [
        "<matplotlib.figure.Figure at 0x7facdc50bf28>"
       ]
      }
     ],
     "prompt_number": 31
    },
    {
     "cell_type": "raw",
     "metadata": {},
     "source": [
      "Tukaj pa je situacija druga\u010dna. Vidim da ima Ryanair sorazmeroma enakometne cene (ve\u010dinoma med 40 in 60) medtem ko Volotejine cene ska\u010dejo od zelo nizkih do zelo visokih. Zopet naredim tabelo z dnevi v tednu."
     ]
    },
    {
     "cell_type": "code",
     "collapsed": false,
     "input": [
      "dan_v_tednu(volo_return_graf)"
     ],
     "language": "python",
     "metadata": {},
     "outputs": [
      {
       "html": [
        "<div style=\"max-width:1500px;overflow:auto;\">\n",
        "<table border=\"1\" class=\"dataframe\">\n",
        "  <thead>\n",
        "    <tr style=\"text-align: right;\">\n",
        "      <th></th>\n",
        "      <th>index</th>\n",
        "      <th>Cena</th>\n",
        "      <th>dan v tednu</th>\n",
        "    </tr>\n",
        "  </thead>\n",
        "  <tbody>\n",
        "    <tr>\n",
        "      <th>172</th>\n",
        "      <td>2016-08-20</td>\n",
        "      <td>160.37</td>\n",
        "      <td>Sob</td>\n",
        "    </tr>\n",
        "    <tr>\n",
        "      <th>151</th>\n",
        "      <td>2016-07-30</td>\n",
        "      <td>139.81</td>\n",
        "      <td>Sob</td>\n",
        "    </tr>\n",
        "    <tr>\n",
        "      <th>144</th>\n",
        "      <td>2016-07-23</td>\n",
        "      <td>139.81</td>\n",
        "      <td>Sob</td>\n",
        "    </tr>\n",
        "    <tr>\n",
        "      <th>169</th>\n",
        "      <td>2016-08-17</td>\n",
        "      <td>98.68</td>\n",
        "      <td>Sre</td>\n",
        "    </tr>\n",
        "    <tr>\n",
        "      <th>183</th>\n",
        "      <td>2016-08-31</td>\n",
        "      <td>78.12</td>\n",
        "      <td>Sre</td>\n",
        "    </tr>\n",
        "    <tr>\n",
        "      <th>176</th>\n",
        "      <td>2016-08-24</td>\n",
        "      <td>78.12</td>\n",
        "      <td>Sre</td>\n",
        "    </tr>\n",
        "    <tr>\n",
        "      <th>168</th>\n",
        "      <td>2016-08-16</td>\n",
        "      <td>78.12</td>\n",
        "      <td>Tor</td>\n",
        "    </tr>\n",
        "    <tr>\n",
        "      <th>155</th>\n",
        "      <td>2016-08-03</td>\n",
        "      <td>78.12</td>\n",
        "      <td>Sre</td>\n",
        "    </tr>\n",
        "    <tr>\n",
        "      <th>141</th>\n",
        "      <td>2016-07-20</td>\n",
        "      <td>78.12</td>\n",
        "      <td>Sre</td>\n",
        "    </tr>\n",
        "    <tr>\n",
        "      <th>182</th>\n",
        "      <td>2016-08-30</td>\n",
        "      <td>57.56</td>\n",
        "      <td>Tor</td>\n",
        "    </tr>\n",
        "    <tr>\n",
        "      <th>186</th>\n",
        "      <td>2016-09-03</td>\n",
        "      <td>17.99</td>\n",
        "      <td>Sob</td>\n",
        "    </tr>\n",
        "    <tr>\n",
        "      <th>179</th>\n",
        "      <td>2016-08-27</td>\n",
        "      <td>17.99</td>\n",
        "      <td>Sob</td>\n",
        "    </tr>\n",
        "    <tr>\n",
        "      <th>175</th>\n",
        "      <td>2016-08-23</td>\n",
        "      <td>17.99</td>\n",
        "      <td>Tor</td>\n",
        "    </tr>\n",
        "    <tr>\n",
        "      <th>165</th>\n",
        "      <td>2016-08-13</td>\n",
        "      <td>17.99</td>\n",
        "      <td>Sob</td>\n",
        "    </tr>\n",
        "    <tr>\n",
        "      <th>162</th>\n",
        "      <td>2016-08-10</td>\n",
        "      <td>17.99</td>\n",
        "      <td>Sre</td>\n",
        "    </tr>\n",
        "    <tr>\n",
        "      <th>161</th>\n",
        "      <td>2016-08-09</td>\n",
        "      <td>17.99</td>\n",
        "      <td>Tor</td>\n",
        "    </tr>\n",
        "    <tr>\n",
        "      <th>158</th>\n",
        "      <td>2016-08-06</td>\n",
        "      <td>17.99</td>\n",
        "      <td>Sob</td>\n",
        "    </tr>\n",
        "    <tr>\n",
        "      <th>154</th>\n",
        "      <td>2016-08-02</td>\n",
        "      <td>17.99</td>\n",
        "      <td>Tor</td>\n",
        "    </tr>\n",
        "    <tr>\n",
        "      <th>148</th>\n",
        "      <td>2016-07-27</td>\n",
        "      <td>17.99</td>\n",
        "      <td>Sre</td>\n",
        "    </tr>\n",
        "    <tr>\n",
        "      <th>147</th>\n",
        "      <td>2016-07-26</td>\n",
        "      <td>17.99</td>\n",
        "      <td>Tor</td>\n",
        "    </tr>\n",
        "    <tr>\n",
        "      <th>140</th>\n",
        "      <td>2016-07-19</td>\n",
        "      <td>17.99</td>\n",
        "      <td>Tor</td>\n",
        "    </tr>\n",
        "    <tr>\n",
        "      <th>134</th>\n",
        "      <td>2016-07-13</td>\n",
        "      <td>17.99</td>\n",
        "      <td>Sre</td>\n",
        "    </tr>\n",
        "    <tr>\n",
        "      <th>133</th>\n",
        "      <td>2016-07-12</td>\n",
        "      <td>17.99</td>\n",
        "      <td>Tor</td>\n",
        "    </tr>\n",
        "    <tr>\n",
        "      <th>127</th>\n",
        "      <td>2016-07-06</td>\n",
        "      <td>17.99</td>\n",
        "      <td>Sre</td>\n",
        "    </tr>\n",
        "    <tr>\n",
        "      <th>126</th>\n",
        "      <td>2016-07-05</td>\n",
        "      <td>17.99</td>\n",
        "      <td>Tor</td>\n",
        "    </tr>\n",
        "    <tr>\n",
        "      <th>120</th>\n",
        "      <td>2016-06-29</td>\n",
        "      <td>17.99</td>\n",
        "      <td>Sre</td>\n",
        "    </tr>\n",
        "    <tr>\n",
        "      <th>119</th>\n",
        "      <td>2016-06-28</td>\n",
        "      <td>17.99</td>\n",
        "      <td>Tor</td>\n",
        "    </tr>\n",
        "  </tbody>\n",
        "</table>\n",
        "</div>"
       ],
       "metadata": {},
       "output_type": "pyout",
       "prompt_number": 32,
       "text": [
        "         index    Cena dan v tednu\n",
        "172 2016-08-20  160.37         Sob\n",
        "151 2016-07-30  139.81         Sob\n",
        "144 2016-07-23  139.81         Sob\n",
        "169 2016-08-17   98.68         Sre\n",
        "183 2016-08-31   78.12         Sre\n",
        "176 2016-08-24   78.12         Sre\n",
        "168 2016-08-16   78.12         Tor\n",
        "155 2016-08-03   78.12         Sre\n",
        "141 2016-07-20   78.12         Sre\n",
        "182 2016-08-30   57.56         Tor\n",
        "186 2016-09-03   17.99         Sob\n",
        "179 2016-08-27   17.99         Sob\n",
        "175 2016-08-23   17.99         Tor\n",
        "165 2016-08-13   17.99         Sob\n",
        "162 2016-08-10   17.99         Sre\n",
        "161 2016-08-09   17.99         Tor\n",
        "158 2016-08-06   17.99         Sob\n",
        "154 2016-08-02   17.99         Tor\n",
        "148 2016-07-27   17.99         Sre\n",
        "147 2016-07-26   17.99         Tor\n",
        "140 2016-07-19   17.99         Tor\n",
        "134 2016-07-13   17.99         Sre\n",
        "133 2016-07-12   17.99         Tor\n",
        "127 2016-07-06   17.99         Sre\n",
        "126 2016-07-05   17.99         Tor\n",
        "120 2016-06-29   17.99         Sre\n",
        "119 2016-06-28   17.99         Tor"
       ]
      }
     ],
     "prompt_number": 32
    },
    {
     "cell_type": "raw",
     "metadata": {},
     "source": [
      "Vidim, da so najdra\u017eje karte v sobotah. Zanimajo me tudi najcenej\u0161e karte."
     ]
    },
    {
     "cell_type": "code",
     "collapsed": false,
     "input": [
      "tabelica = dan_v_tednu(volo_return_graf, True)\n",
      "tabelica"
     ],
     "language": "python",
     "metadata": {},
     "outputs": [
      {
       "html": [
        "<div style=\"max-width:1500px;overflow:auto;\">\n",
        "<table border=\"1\" class=\"dataframe\">\n",
        "  <thead>\n",
        "    <tr style=\"text-align: right;\">\n",
        "      <th></th>\n",
        "      <th>index</th>\n",
        "      <th>Cena</th>\n",
        "      <th>dan v tednu</th>\n",
        "    </tr>\n",
        "  </thead>\n",
        "  <tbody>\n",
        "    <tr>\n",
        "      <th>119</th>\n",
        "      <td>2016-06-28</td>\n",
        "      <td>17.99</td>\n",
        "      <td>Tor</td>\n",
        "    </tr>\n",
        "    <tr>\n",
        "      <th>120</th>\n",
        "      <td>2016-06-29</td>\n",
        "      <td>17.99</td>\n",
        "      <td>Sre</td>\n",
        "    </tr>\n",
        "    <tr>\n",
        "      <th>126</th>\n",
        "      <td>2016-07-05</td>\n",
        "      <td>17.99</td>\n",
        "      <td>Tor</td>\n",
        "    </tr>\n",
        "    <tr>\n",
        "      <th>127</th>\n",
        "      <td>2016-07-06</td>\n",
        "      <td>17.99</td>\n",
        "      <td>Sre</td>\n",
        "    </tr>\n",
        "    <tr>\n",
        "      <th>133</th>\n",
        "      <td>2016-07-12</td>\n",
        "      <td>17.99</td>\n",
        "      <td>Tor</td>\n",
        "    </tr>\n",
        "    <tr>\n",
        "      <th>134</th>\n",
        "      <td>2016-07-13</td>\n",
        "      <td>17.99</td>\n",
        "      <td>Sre</td>\n",
        "    </tr>\n",
        "    <tr>\n",
        "      <th>140</th>\n",
        "      <td>2016-07-19</td>\n",
        "      <td>17.99</td>\n",
        "      <td>Tor</td>\n",
        "    </tr>\n",
        "    <tr>\n",
        "      <th>147</th>\n",
        "      <td>2016-07-26</td>\n",
        "      <td>17.99</td>\n",
        "      <td>Tor</td>\n",
        "    </tr>\n",
        "    <tr>\n",
        "      <th>148</th>\n",
        "      <td>2016-07-27</td>\n",
        "      <td>17.99</td>\n",
        "      <td>Sre</td>\n",
        "    </tr>\n",
        "    <tr>\n",
        "      <th>154</th>\n",
        "      <td>2016-08-02</td>\n",
        "      <td>17.99</td>\n",
        "      <td>Tor</td>\n",
        "    </tr>\n",
        "    <tr>\n",
        "      <th>158</th>\n",
        "      <td>2016-08-06</td>\n",
        "      <td>17.99</td>\n",
        "      <td>Sob</td>\n",
        "    </tr>\n",
        "    <tr>\n",
        "      <th>161</th>\n",
        "      <td>2016-08-09</td>\n",
        "      <td>17.99</td>\n",
        "      <td>Tor</td>\n",
        "    </tr>\n",
        "    <tr>\n",
        "      <th>162</th>\n",
        "      <td>2016-08-10</td>\n",
        "      <td>17.99</td>\n",
        "      <td>Sre</td>\n",
        "    </tr>\n",
        "    <tr>\n",
        "      <th>165</th>\n",
        "      <td>2016-08-13</td>\n",
        "      <td>17.99</td>\n",
        "      <td>Sob</td>\n",
        "    </tr>\n",
        "    <tr>\n",
        "      <th>175</th>\n",
        "      <td>2016-08-23</td>\n",
        "      <td>17.99</td>\n",
        "      <td>Tor</td>\n",
        "    </tr>\n",
        "    <tr>\n",
        "      <th>179</th>\n",
        "      <td>2016-08-27</td>\n",
        "      <td>17.99</td>\n",
        "      <td>Sob</td>\n",
        "    </tr>\n",
        "    <tr>\n",
        "      <th>186</th>\n",
        "      <td>2016-09-03</td>\n",
        "      <td>17.99</td>\n",
        "      <td>Sob</td>\n",
        "    </tr>\n",
        "    <tr>\n",
        "      <th>182</th>\n",
        "      <td>2016-08-30</td>\n",
        "      <td>57.56</td>\n",
        "      <td>Tor</td>\n",
        "    </tr>\n",
        "    <tr>\n",
        "      <th>141</th>\n",
        "      <td>2016-07-20</td>\n",
        "      <td>78.12</td>\n",
        "      <td>Sre</td>\n",
        "    </tr>\n",
        "    <tr>\n",
        "      <th>155</th>\n",
        "      <td>2016-08-03</td>\n",
        "      <td>78.12</td>\n",
        "      <td>Sre</td>\n",
        "    </tr>\n",
        "    <tr>\n",
        "      <th>168</th>\n",
        "      <td>2016-08-16</td>\n",
        "      <td>78.12</td>\n",
        "      <td>Tor</td>\n",
        "    </tr>\n",
        "    <tr>\n",
        "      <th>176</th>\n",
        "      <td>2016-08-24</td>\n",
        "      <td>78.12</td>\n",
        "      <td>Sre</td>\n",
        "    </tr>\n",
        "    <tr>\n",
        "      <th>183</th>\n",
        "      <td>2016-08-31</td>\n",
        "      <td>78.12</td>\n",
        "      <td>Sre</td>\n",
        "    </tr>\n",
        "    <tr>\n",
        "      <th>169</th>\n",
        "      <td>2016-08-17</td>\n",
        "      <td>98.68</td>\n",
        "      <td>Sre</td>\n",
        "    </tr>\n",
        "    <tr>\n",
        "      <th>144</th>\n",
        "      <td>2016-07-23</td>\n",
        "      <td>139.81</td>\n",
        "      <td>Sob</td>\n",
        "    </tr>\n",
        "    <tr>\n",
        "      <th>151</th>\n",
        "      <td>2016-07-30</td>\n",
        "      <td>139.81</td>\n",
        "      <td>Sob</td>\n",
        "    </tr>\n",
        "    <tr>\n",
        "      <th>172</th>\n",
        "      <td>2016-08-20</td>\n",
        "      <td>160.37</td>\n",
        "      <td>Sob</td>\n",
        "    </tr>\n",
        "  </tbody>\n",
        "</table>\n",
        "</div>"
       ],
       "metadata": {},
       "output_type": "pyout",
       "prompt_number": 33,
       "text": [
        "         index    Cena dan v tednu\n",
        "119 2016-06-28   17.99         Tor\n",
        "120 2016-06-29   17.99         Sre\n",
        "126 2016-07-05   17.99         Tor\n",
        "127 2016-07-06   17.99         Sre\n",
        "133 2016-07-12   17.99         Tor\n",
        "134 2016-07-13   17.99         Sre\n",
        "140 2016-07-19   17.99         Tor\n",
        "147 2016-07-26   17.99         Tor\n",
        "148 2016-07-27   17.99         Sre\n",
        "154 2016-08-02   17.99         Tor\n",
        "158 2016-08-06   17.99         Sob\n",
        "161 2016-08-09   17.99         Tor\n",
        "162 2016-08-10   17.99         Sre\n",
        "165 2016-08-13   17.99         Sob\n",
        "175 2016-08-23   17.99         Tor\n",
        "179 2016-08-27   17.99         Sob\n",
        "186 2016-09-03   17.99         Sob\n",
        "182 2016-08-30   57.56         Tor\n",
        "141 2016-07-20   78.12         Sre\n",
        "155 2016-08-03   78.12         Sre\n",
        "168 2016-08-16   78.12         Tor\n",
        "176 2016-08-24   78.12         Sre\n",
        "183 2016-08-31   78.12         Sre\n",
        "169 2016-08-17   98.68         Sre\n",
        "144 2016-07-23  139.81         Sob\n",
        "151 2016-07-30  139.81         Sob\n",
        "172 2016-08-20  160.37         Sob"
       ]
      }
     ],
     "prompt_number": 33
    },
    {
     "cell_type": "raw",
     "metadata": {},
     "source": [
      "Vidim, da nazaj Volotea leti najceneje zelo pogosto. Kar 17x od 27 letov. To je 63% vseh letov."
     ]
    },
    {
     "cell_type": "code",
     "collapsed": false,
     "input": [
      "tabelica.count() #\u0161tevilo letov je 27"
     ],
     "language": "python",
     "metadata": {},
     "outputs": [
      {
       "metadata": {},
       "output_type": "pyout",
       "prompt_number": 34,
       "text": [
        "index          27\n",
        "Cena           27\n",
        "dan v tednu    27\n",
        "dtype: int64"
       ]
      }
     ],
     "prompt_number": 34
    },
    {
     "cell_type": "code",
     "collapsed": false,
     "input": [
      "tabelica.groupby('Cena').count() #\u0161tevilo najcenej\u0161ih letov je 17"
     ],
     "language": "python",
     "metadata": {},
     "outputs": [
      {
       "html": [
        "<div style=\"max-width:1500px;overflow:auto;\">\n",
        "<table border=\"1\" class=\"dataframe\">\n",
        "  <thead>\n",
        "    <tr style=\"text-align: right;\">\n",
        "      <th></th>\n",
        "      <th>index</th>\n",
        "      <th>dan v tednu</th>\n",
        "    </tr>\n",
        "    <tr>\n",
        "      <th>Cena</th>\n",
        "      <th></th>\n",
        "      <th></th>\n",
        "    </tr>\n",
        "  </thead>\n",
        "  <tbody>\n",
        "    <tr>\n",
        "      <th>17.99</th>\n",
        "      <td>17</td>\n",
        "      <td>17</td>\n",
        "    </tr>\n",
        "    <tr>\n",
        "      <th>57.56</th>\n",
        "      <td>1</td>\n",
        "      <td>1</td>\n",
        "    </tr>\n",
        "    <tr>\n",
        "      <th>78.12</th>\n",
        "      <td>5</td>\n",
        "      <td>5</td>\n",
        "    </tr>\n",
        "    <tr>\n",
        "      <th>98.68</th>\n",
        "      <td>1</td>\n",
        "      <td>1</td>\n",
        "    </tr>\n",
        "    <tr>\n",
        "      <th>139.81</th>\n",
        "      <td>2</td>\n",
        "      <td>2</td>\n",
        "    </tr>\n",
        "    <tr>\n",
        "      <th>160.37</th>\n",
        "      <td>1</td>\n",
        "      <td>1</td>\n",
        "    </tr>\n",
        "  </tbody>\n",
        "</table>\n",
        "</div>"
       ],
       "metadata": {},
       "output_type": "pyout",
       "prompt_number": 35,
       "text": [
        "        index  dan v tednu\n",
        "Cena                      \n",
        "17.99      17           17\n",
        "57.56       1            1\n",
        "78.12       5            5\n",
        "98.68       1            1\n",
        "139.81      2            2\n",
        "160.37      1            1"
       ]
      }
     ],
     "prompt_number": 35
    },
    {
     "cell_type": "raw",
     "metadata": {},
     "source": [
      "Izra\u010dunam \u0161e najcenej\u0161i let za Ryanair."
     ]
    },
    {
     "cell_type": "code",
     "collapsed": false,
     "input": [
      "najceneje(ryan_return_skrcen)"
     ],
     "language": "python",
     "metadata": {},
     "outputs": [
      {
       "metadata": {},
       "output_type": "pyout",
       "prompt_number": 36,
       "text": [
        "2016-06-30    40.99\n",
        "Name: Cena, dtype: float64"
       ]
      }
     ],
     "prompt_number": 36
    },
    {
     "cell_type": "raw",
     "metadata": {},
     "source": [
      "Vidim, da je Volotea ve\u010d kot pol cenej\u0161a."
     ]
    },
    {
     "cell_type": "raw",
     "metadata": {},
     "source": [
      "S pomo\u010djo funkcije optimalno_nasploh ugotovim, da najcene\u0161a povratna karta stane 40.99\u20ac(Ryanair) + 17.99\u20ac(Volotea) = 58.98\u20ac. Obisk Krfa bi trajal od 10.7. do 19.7.(\u010de si izberem 9 dni dolgo potovanje) oz. do 26.7. (\u010de imam 16 dni dolgo potovanje) oz. do 27.7. (\u010de imam 17 dni dolgo potovanje). V prvih dveh primerih bi se vrnil v torek, v zadnjem primeru pa v sredo. Ker izpitno obdobje kon\u010da 8.7., lahko kupim karte."
     ]
    },
    {
     "cell_type": "code",
     "collapsed": false,
     "input": [
      "def optimalno(prvi, drugi, nazaj1, nazaj2, dolzina_pocitnic):\n",
      "    def opt(druzba, trajanje):\n",
      "        dolzina = len(druzba)\n",
      "        cena = None\n",
      "        tja = None\n",
      "        nazaj = None\n",
      "        letalo_nazaj = None\n",
      "        for i in range(dolzina-trajanje):\n",
      "            cena_druzba = druzba[\"Cena\"][i]\n",
      "            if cena_druzba != 0:\n",
      "                cena_nazaj1 = ryan_return_skrcen[\"Cena\"][i+trajanje]\n",
      "                cena_nazaj2 = volo_return_skrcen[\"Cena\"][i+trajanje]\n",
      "                if cena_nazaj1 != 0:\n",
      "                    if cena is None:\n",
      "                        cena = cena_druzba + cena_nazaj1\n",
      "                        tja = druzba[i:(i+1)][\"Cena\"]\n",
      "                        nazaj = ryan_return_skrcen[(i+trajanje):((i+trajanje)+1)][\"Cena\"]\n",
      "                        letalo_nazaj = \"Ryanair\"\n",
      "                    else:\n",
      "                        if cena > cena_druzba + cena_nazaj1:\n",
      "                            cena = cena_druzba + cena_nazaj1\n",
      "                            tja = druzba[i:(i+1)][\"Cena\"]\n",
      "                            nazaj = ryan_return_skrcen[(i+trajanje):((i+trajanje)+1)][\"Cena\"]\n",
      "                            letalo_nazaj = \"Ryanair\"\n",
      "                elif cena_nazaj2 != 0:\n",
      "                    if cena is None:\n",
      "                        cena = cena_druzba + cena_nazaj2\n",
      "                        tja = druzba[i:(i+1)][\"Cena\"]\n",
      "                        nazaj = volo_return_skrcen[(i+trajanje):((i+trajanje)+1)][\"Cena\"]\n",
      "                        letalo_nazaj = \"Volotea\"\n",
      "                    else:\n",
      "                        if cena > cena_druzba + cena_nazaj2:\n",
      "                            cena = cena_druzba + cena_nazaj2\n",
      "                            tja = druzba[i:(i+1)][\"Cena\"]\n",
      "                            nazaj = volo_return_skrcen[(i+trajanje):((i+trajanje)+1)][\"Cena\"]\n",
      "                            letalo_nazaj = \"Volotea\"\n",
      "        return (cena, tja, nazaj, letalo_nazaj)\n",
      "    \n",
      "    (cena1, tja1, nazaj1, letalo_nazaj1) = opt(prvi, dolzina_pocitnic-1)\n",
      "    (cena2, tja2, nazaj2, letalo_nazaj2) = opt(drugi, dolzina_pocitnic-1)\n",
      "    \n",
      "    if cena1 is None:\n",
      "        if cena2 is None:\n",
      "            return None\n",
      "        else:\n",
      "            return (\"Volotea\",int(cena2), tja2, nazaj2, letalo_nazaj2)\n",
      "    elif cena2 is None:\n",
      "        if cena1 is None:\n",
      "            return None\n",
      "        else:\n",
      "            return (\"Ryanair\",int(cena1), tja1, nazaj1, letalo_nazaj1)\n",
      "    elif cena1 < cena2:\n",
      "        return (\"Ryanair\",int(cena1), tja1, nazaj1, letalo_nazaj1)\n",
      "    else:\n",
      "        return (\"Volotea\",int(cena2), tja2, nazaj2, letalo_nazaj2)\n",
      "                        \n",
      "        \n",
      "    "
     ],
     "language": "python",
     "metadata": {},
     "outputs": [],
     "prompt_number": 153
    },
    {
     "cell_type": "code",
     "collapsed": false,
     "input": [
      "def optimalno_nasploh(prvi, drugi, nazaj1, nazaj2, zacetek, konec):\n",
      "    sez = []\n",
      "    for pocitnice in range(zacetek, konec+1):\n",
      "        poceni = optimalno(prvi, drugi, nazaj1, nazaj2, pocitnice)\n",
      "        if poceni is not None:\n",
      "            if sez == []:\n",
      "                sez.append(poceni)\n",
      "            else:\n",
      "                trenutna_cena = sez[0][1]\n",
      "                if poceni[1] < trenutna_cena:\n",
      "                    sez = []\n",
      "                    sez.append(poceni)\n",
      "                elif poceni[1] == trenutna_cena:\n",
      "                    sez.append(poceni)\n",
      "    return sez\n",
      "    "
     ],
     "language": "python",
     "metadata": {},
     "outputs": [],
     "prompt_number": 154
    },
    {
     "cell_type": "code",
     "collapsed": false,
     "input": [
      "optimalno_nasploh(ryan_skrcen, volo_skrcen, ryan_return_skrcen, ryan_return_skrcen, 7, 21)"
     ],
     "language": "python",
     "metadata": {},
     "outputs": [
      {
       "metadata": {},
       "output_type": "pyout",
       "prompt_number": 156,
       "text": [
        "[('Ryanair',\n",
        "  58,\n",
        "  2016-07-10    40.99\n",
        "Freq: D, Name: Cena, dtype: float64,\n",
        "  2016-07-19    17.99\n",
        "Freq: D, Name: Cena, dtype: float64,\n",
        "  'Volotea'),\n",
        " ('Ryanair',\n",
        "  58,\n",
        "  2016-07-10    40.99\n",
        "Freq: D, Name: Cena, dtype: float64,\n",
        "  2016-07-26    17.99\n",
        "Freq: D, Name: Cena, dtype: float64,\n",
        "  'Volotea'),\n",
        " ('Ryanair',\n",
        "  58,\n",
        "  2016-07-10    40.99\n",
        "Freq: D, Name: Cena, dtype: float64,\n",
        "  2016-07-27    17.99\n",
        "Freq: D, Name: Cena, dtype: float64,\n",
        "  'Volotea')]"
       ]
      }
     ],
     "prompt_number": 156
    },
    {
     "cell_type": "markdown",
     "metadata": {},
     "source": [
      "Ideje za razvoj programa: dolo\u010dim si destinacijo ter vsak dan poberem podatke za ceno in datume celega leta. Nato vidim, kako se cena karte pri dolo\u010denemu datumu spreminja skozi \u010das. Potrdil ali ovrgel bi mit, da se cena kart, ko se datum pribli\u017euje datumu leta, zni\u017ea."
     ]
    }
   ],
   "metadata": {}
  }
 ]
}